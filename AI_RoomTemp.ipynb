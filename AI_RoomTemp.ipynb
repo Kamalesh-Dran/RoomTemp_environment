{
 "cells": [
  {
   "cell_type": "markdown",
   "metadata": {},
   "source": [
    "# 0. Install Dependencies"
   ]
  },
  {
   "cell_type": "code",
   "execution_count": 4,
   "metadata": {},
   "outputs": [
    {
     "name": "stderr",
     "output_type": "stream",
     "text": [
      "ERROR: Could not find a version that satisfies the requirement tensorflow==2.3.0 (from versions: 2.5.0, 2.5.1, 2.5.2, 2.5.3, 2.6.0rc0, 2.6.0rc1, 2.6.0rc2, 2.6.0, 2.6.1, 2.6.2, 2.6.3, 2.6.4, 2.6.5, 2.7.0rc0, 2.7.0rc1, 2.7.0, 2.7.1, 2.7.2, 2.7.3, 2.7.4, 2.8.0rc0, 2.8.0rc1, 2.8.0, 2.8.1, 2.8.2, 2.8.3, 2.8.4, 2.9.0rc0, 2.9.0rc1, 2.9.0rc2, 2.9.0, 2.9.1, 2.9.2, 2.9.3, 2.10.0rc0, 2.10.0rc1, 2.10.0rc2, 2.10.0rc3, 2.10.0, 2.10.1, 2.11.0rc0, 2.11.0rc1, 2.11.0rc2, 2.11.0, 2.11.1, 2.12.0rc0, 2.12.0rc1, 2.12.0)\n",
      "ERROR: No matching distribution found for tensorflow==2.3.0\n"
     ]
    },
    {
     "name": "stdout",
     "output_type": "stream",
     "text": [
      "Collecting gym\n",
      "  Downloading gym-0.26.2.tar.gz (721 kB)\n",
      "  Installing build dependencies: started\n",
      "  Installing build dependencies: finished with status 'done'\n",
      "  Getting requirements to build wheel: started\n",
      "  Getting requirements to build wheel: finished with status 'done'\n",
      "    Preparing wheel metadata: started\n",
      "    Preparing wheel metadata: finished with status 'done'\n",
      "Requirement already satisfied: cloudpickle>=1.2.0 in c:\\users\\kamalesh dran\\anaconda3\\lib\\site-packages (from gym) (2.0.0)\n",
      "Requirement already satisfied: numpy>=1.18.0 in c:\\users\\kamalesh dran\\anaconda3\\lib\\site-packages (from gym) (1.21.5)\n",
      "Collecting gym-notices>=0.0.4\n",
      "  Downloading gym_notices-0.0.8-py3-none-any.whl (3.0 kB)\n",
      "Requirement already satisfied: importlib-metadata>=4.8.0 in c:\\users\\kamalesh dran\\anaconda3\\lib\\site-packages (from gym) (4.11.3)\n",
      "Requirement already satisfied: zipp>=0.5 in c:\\users\\kamalesh dran\\anaconda3\\lib\\site-packages (from importlib-metadata>=4.8.0->gym) (3.7.0)\n",
      "Building wheels for collected packages: gym\n",
      "  Building wheel for gym (PEP 517): started\n",
      "  Building wheel for gym (PEP 517): finished with status 'done'\n",
      "  Created wheel for gym: filename=gym-0.26.2-py3-none-any.whl size=827644 sha256=2f8dc86d41addd39bcbe0a852f7c63e598464d201e63a436d040418acc14f370\n",
      "  Stored in directory: c:\\users\\kamalesh dran\\appdata\\local\\pip\\cache\\wheels\\af\\2b\\30\\5e78b8b9599f2a2286a582b8da80594f654bf0e18d825a4405\n",
      "Successfully built gym\n",
      "Installing collected packages: gym-notices, gym\n",
      "Successfully installed gym-0.26.2 gym-notices-0.0.8\n",
      "Requirement already satisfied: keras in c:\\users\\kamalesh dran\\anaconda3\\lib\\site-packages (2.10.0)\n",
      "Collecting keras-rl2\n",
      "  Downloading keras_rl2-1.0.5-py3-none-any.whl (52 kB)\n",
      "Requirement already satisfied: tensorflow in c:\\users\\kamalesh dran\\anaconda3\\lib\\site-packages (from keras-rl2) (2.10.0)\n",
      "Requirement already satisfied: tensorflow-io-gcs-filesystem>=0.23.1 in c:\\users\\kamalesh dran\\anaconda3\\lib\\site-packages (from tensorflow->keras-rl2) (0.27.0)\n",
      "Requirement already satisfied: tensorflow-estimator<2.11,>=2.10.0 in c:\\users\\kamalesh dran\\anaconda3\\lib\\site-packages (from tensorflow->keras-rl2) (2.10.0)\n",
      "Requirement already satisfied: protobuf<3.20,>=3.9.2 in c:\\users\\kamalesh dran\\anaconda3\\lib\\site-packages (from tensorflow->keras-rl2) (3.19.1)\n",
      "Requirement already satisfied: libclang>=13.0.0 in c:\\users\\kamalesh dran\\anaconda3\\lib\\site-packages (from tensorflow->keras-rl2) (14.0.6)\n",
      "Requirement already satisfied: packaging in c:\\users\\kamalesh dran\\appdata\\roaming\\python\\python39\\site-packages (from tensorflow->keras-rl2) (21.3)\n",
      "Requirement already satisfied: tensorboard<2.11,>=2.10 in c:\\users\\kamalesh dran\\anaconda3\\lib\\site-packages (from tensorflow->keras-rl2) (2.10.1)\n",
      "Requirement already satisfied: keras-preprocessing>=1.1.1 in c:\\users\\kamalesh dran\\anaconda3\\lib\\site-packages (from tensorflow->keras-rl2) (1.1.2)\n",
      "Requirement already satisfied: termcolor>=1.1.0 in c:\\users\\kamalesh dran\\anaconda3\\lib\\site-packages (from tensorflow->keras-rl2) (2.0.1)\n",
      "Requirement already satisfied: typing-extensions>=3.6.6 in c:\\users\\kamalesh dran\\anaconda3\\lib\\site-packages (from tensorflow->keras-rl2) (4.5.0)\n",
      "Requirement already satisfied: absl-py>=1.0.0 in c:\\users\\kamalesh dran\\anaconda3\\lib\\site-packages (from tensorflow->keras-rl2) (1.3.0)\n",
      "Requirement already satisfied: keras<2.11,>=2.10.0 in c:\\users\\kamalesh dran\\anaconda3\\lib\\site-packages (from tensorflow->keras-rl2) (2.10.0)\n",
      "Requirement already satisfied: flatbuffers>=2.0 in c:\\users\\kamalesh dran\\anaconda3\\lib\\site-packages (from tensorflow->keras-rl2) (22.9.24)\n",
      "Requirement already satisfied: setuptools in c:\\users\\kamalesh dran\\anaconda3\\lib\\site-packages (from tensorflow->keras-rl2) (61.2.0)\n",
      "Requirement already satisfied: six>=1.12.0 in c:\\users\\kamalesh dran\\appdata\\roaming\\python\\python39\\site-packages (from tensorflow->keras-rl2) (1.16.0)\n",
      "Requirement already satisfied: numpy>=1.20 in c:\\users\\kamalesh dran\\anaconda3\\lib\\site-packages (from tensorflow->keras-rl2) (1.21.5)\n",
      "Requirement already satisfied: h5py>=2.9.0 in c:\\users\\kamalesh dran\\anaconda3\\lib\\site-packages (from tensorflow->keras-rl2) (3.6.0)\n",
      "Requirement already satisfied: grpcio<2.0,>=1.24.3 in c:\\users\\kamalesh dran\\anaconda3\\lib\\site-packages (from tensorflow->keras-rl2) (1.42.0)\n",
      "Requirement already satisfied: gast<=0.4.0,>=0.2.1 in c:\\users\\kamalesh dran\\anaconda3\\lib\\site-packages (from tensorflow->keras-rl2) (0.4.0)\n",
      "Requirement already satisfied: wrapt>=1.11.0 in c:\\users\\kamalesh dran\\anaconda3\\lib\\site-packages (from tensorflow->keras-rl2) (1.12.1)\n",
      "Requirement already satisfied: astunparse>=1.6.0 in c:\\users\\kamalesh dran\\anaconda3\\lib\\site-packages (from tensorflow->keras-rl2) (1.6.3)\n",
      "Requirement already satisfied: google-pasta>=0.1.1 in c:\\users\\kamalesh dran\\anaconda3\\lib\\site-packages (from tensorflow->keras-rl2) (0.2.0)\n",
      "Requirement already satisfied: opt-einsum>=2.3.2 in c:\\users\\kamalesh dran\\anaconda3\\lib\\site-packages (from tensorflow->keras-rl2) (3.3.0)\n",
      "Requirement already satisfied: wheel<1.0,>=0.23.0 in c:\\users\\kamalesh dran\\anaconda3\\lib\\site-packages (from astunparse>=1.6.0->tensorflow->keras-rl2) (0.37.1)\n",
      "Requirement already satisfied: google-auth-oauthlib<0.5,>=0.4.1 in c:\\users\\kamalesh dran\\anaconda3\\lib\\site-packages (from tensorboard<2.11,>=2.10->tensorflow->keras-rl2) (0.4.6)\n",
      "Requirement already satisfied: werkzeug>=1.0.1 in c:\\users\\kamalesh dran\\anaconda3\\lib\\site-packages (from tensorboard<2.11,>=2.10->tensorflow->keras-rl2) (2.0.3)\n",
      "Requirement already satisfied: tensorboard-data-server<0.7.0,>=0.6.0 in c:\\users\\kamalesh dran\\anaconda3\\lib\\site-packages (from tensorboard<2.11,>=2.10->tensorflow->keras-rl2) (0.6.1)\n",
      "Requirement already satisfied: google-auth<3,>=1.6.3 in c:\\users\\kamalesh dran\\anaconda3\\lib\\site-packages (from tensorboard<2.11,>=2.10->tensorflow->keras-rl2) (1.33.0)\n",
      "Requirement already satisfied: requests<3,>=2.21.0 in c:\\users\\kamalesh dran\\anaconda3\\lib\\site-packages (from tensorboard<2.11,>=2.10->tensorflow->keras-rl2) (2.27.1)\n",
      "Requirement already satisfied: tensorboard-plugin-wit>=1.6.0 in c:\\users\\kamalesh dran\\anaconda3\\lib\\site-packages (from tensorboard<2.11,>=2.10->tensorflow->keras-rl2) (1.8.1)\n",
      "Requirement already satisfied: markdown>=2.6.8 in c:\\users\\kamalesh dran\\anaconda3\\lib\\site-packages (from tensorboard<2.11,>=2.10->tensorflow->keras-rl2) (3.3.4)\n",
      "Requirement already satisfied: rsa<5,>=3.1.4 in c:\\users\\kamalesh dran\\anaconda3\\lib\\site-packages (from google-auth<3,>=1.6.3->tensorboard<2.11,>=2.10->tensorflow->keras-rl2) (4.7.2)\n",
      "Requirement already satisfied: pyasn1-modules>=0.2.1 in c:\\users\\kamalesh dran\\anaconda3\\lib\\site-packages (from google-auth<3,>=1.6.3->tensorboard<2.11,>=2.10->tensorflow->keras-rl2) (0.2.8)\n",
      "Requirement already satisfied: cachetools<5.0,>=2.0.0 in c:\\users\\kamalesh dran\\anaconda3\\lib\\site-packages (from google-auth<3,>=1.6.3->tensorboard<2.11,>=2.10->tensorflow->keras-rl2) (4.2.2)\n",
      "Requirement already satisfied: requests-oauthlib>=0.7.0 in c:\\users\\kamalesh dran\\anaconda3\\lib\\site-packages (from google-auth-oauthlib<0.5,>=0.4.1->tensorboard<2.11,>=2.10->tensorflow->keras-rl2) (1.3.1)\n",
      "Requirement already satisfied: pyasn1<0.5.0,>=0.4.6 in c:\\users\\kamalesh dran\\anaconda3\\lib\\site-packages (from pyasn1-modules>=0.2.1->google-auth<3,>=1.6.3->tensorboard<2.11,>=2.10->tensorflow->keras-rl2) (0.4.8)\n",
      "Requirement already satisfied: certifi>=2017.4.17 in c:\\users\\kamalesh dran\\anaconda3\\lib\\site-packages (from requests<3,>=2.21.0->tensorboard<2.11,>=2.10->tensorflow->keras-rl2) (2021.10.8)\n",
      "Requirement already satisfied: charset-normalizer~=2.0.0 in c:\\users\\kamalesh dran\\anaconda3\\lib\\site-packages (from requests<3,>=2.21.0->tensorboard<2.11,>=2.10->tensorflow->keras-rl2) (2.0.4)\n",
      "Requirement already satisfied: idna<4,>=2.5 in c:\\users\\kamalesh dran\\anaconda3\\lib\\site-packages (from requests<3,>=2.21.0->tensorboard<2.11,>=2.10->tensorflow->keras-rl2) (3.3)\n",
      "Requirement already satisfied: urllib3<1.27,>=1.21.1 in c:\\users\\kamalesh dran\\anaconda3\\lib\\site-packages (from requests<3,>=2.21.0->tensorboard<2.11,>=2.10->tensorflow->keras-rl2) (1.26.9)\n",
      "Requirement already satisfied: oauthlib>=3.0.0 in c:\\users\\kamalesh dran\\anaconda3\\lib\\site-packages (from requests-oauthlib>=0.7.0->google-auth-oauthlib<0.5,>=0.4.1->tensorboard<2.11,>=2.10->tensorflow->keras-rl2) (3.2.2)\n",
      "Requirement already satisfied: pyparsing!=3.0.5,>=2.0.2 in c:\\users\\kamalesh dran\\appdata\\roaming\\python\\python39\\site-packages (from packaging->tensorflow->keras-rl2) (3.0.9)\n",
      "Installing collected packages: keras-rl2\n",
      "Successfully installed keras-rl2-1.0.5\n"
     ]
    }
   ],
   "source": [
    "!pip install tensorflow==2.3.0\n",
    "!pip install gym\n",
    "!pip install keras\n",
    "!pip install keras-rl2"
   ]
  },
  {
   "cell_type": "markdown",
   "metadata": {},
   "source": [
    "# 1. Test Random Environment with OpenAI Gym"
   ]
  },
  {
   "cell_type": "code",
   "execution_count": 2,
   "metadata": {},
   "outputs": [],
   "source": [
    "from gym import Env\n",
    "from gym.spaces import Discrete, Box\n",
    "import numpy as np\n",
    "import random"
   ]
  },
  {
   "cell_type": "code",
   "execution_count": 3,
   "metadata": {},
   "outputs": [],
   "source": [
    "class RoomEnv(Env):\n",
    "    def __init__(self):\n",
    "        # Actions we can take - down, stay, up\n",
    "        self.action_space = Discrete(3)\n",
    "        # Temperature array\n",
    "        self.observation_space = Box(low = np.array([0]), high=np.array([100]))\n",
    "        # Set start temp\n",
    "        self.state = 28 + random.randint(-3,3)\n",
    "        # Set AC length\n",
    "        self.ac_length = 60\n",
    "                                     \n",
    "    def step(self, action):\n",
    "        # Apply action\n",
    "        self.state += action -1\n",
    "        # Reduce AC length by 1 second\n",
    "        self.ac_length -= 1\n",
    "                                     \n",
    "        #Calculate reward                             \n",
    "        if self.state >=27 and self.state <=29:\n",
    "            reward = 1\n",
    "        else:\n",
    "            reward = -1\n",
    "                                     \n",
    "        #Check if AC is done                             \n",
    "        if self.ac_length <=0:\n",
    "            done = True\n",
    "        else: \n",
    "            done = False\n",
    "                                     \n",
    "        # Apply temperature noise \n",
    "        self.state += random.randint(-1,1)\n",
    "        \n",
    "        # Set placeholder for info\n",
    "        info = {}\n",
    "                                     \n",
    "        # Return step information\n",
    "        return self.state, reward, done, info\n",
    "                                     \n",
    "    def reset(self):\n",
    "        # Reset room temperature\n",
    "        self.state = 28 + random.randint(-3,3)\n",
    "        # Reset AC time\n",
    "        self.ac_length = 60\n",
    "        return self.state"
   ]
  },
  {
   "cell_type": "code",
   "execution_count": 4,
   "metadata": {},
   "outputs": [
    {
     "name": "stderr",
     "output_type": "stream",
     "text": [
      "C:\\Users\\KAMALESH DRAN\\anaconda3\\lib\\site-packages\\gym\\spaces\\box.py:127: UserWarning: \u001b[33mWARN: Box bound precision lowered by casting to float32\u001b[0m\n",
      "  logger.warn(f\"Box bound precision lowered by casting to {self.dtype}\")\n"
     ]
    }
   ],
   "source": [
    "env = RoomEnv()"
   ]
  },
  {
   "cell_type": "code",
   "execution_count": 5,
   "metadata": {},
   "outputs": [
    {
     "data": {
      "text/plain": [
       "0"
      ]
     },
     "execution_count": 5,
     "metadata": {},
     "output_type": "execute_result"
    }
   ],
   "source": [
    "env.action_space.sample()"
   ]
  },
  {
   "cell_type": "code",
   "execution_count": 6,
   "metadata": {},
   "outputs": [
    {
     "name": "stdout",
     "output_type": "stream",
     "text": [
      "Episode:1 Score:-52\n",
      "Episode:2 Score:-60\n",
      "Episode:3 Score:-60\n",
      "Episode:4 Score:-46\n",
      "Episode:5 Score:-60\n",
      "Episode:6 Score:-24\n",
      "Episode:7 Score:-46\n",
      "Episode:8 Score:-60\n",
      "Episode:9 Score:-60\n",
      "Episode:10 Score:-50\n"
     ]
    }
   ],
   "source": [
    "episodes = 10\n",
    "for episode in range(1, episodes+1):\n",
    "    state = env.reset()\n",
    "    done = False\n",
    "    score = 0 \n",
    "    \n",
    "    while not done:\n",
    "        action = env.action_space.sample()\n",
    "        n_state, reward, done, info = env.step(action)\n",
    "        score+=reward\n",
    "    print('Episode:{} Score:{}'.format(episode, score))"
   ]
  },
  {
   "cell_type": "markdown",
   "metadata": {},
   "source": [
    "# 2. Create a Deep Learning Model with Keras"
   ]
  },
  {
   "cell_type": "code",
   "execution_count": 7,
   "metadata": {},
   "outputs": [],
   "source": [
    "import numpy as np\n",
    "from tensorflow.keras.models import Sequential\n",
    "from tensorflow.keras.layers import Dense, Flatten\n",
    "from tensorflow.keras.optimizers import Adam"
   ]
  },
  {
   "cell_type": "code",
   "execution_count": 8,
   "metadata": {},
   "outputs": [],
   "source": [
    "states = env.observation_space.shape\n",
    "actions = env.action_space.n"
   ]
  },
  {
   "cell_type": "code",
   "execution_count": 9,
   "metadata": {},
   "outputs": [
    {
     "data": {
      "text/plain": [
       "3"
      ]
     },
     "execution_count": 9,
     "metadata": {},
     "output_type": "execute_result"
    }
   ],
   "source": [
    "actions"
   ]
  },
  {
   "cell_type": "code",
   "execution_count": 10,
   "metadata": {},
   "outputs": [],
   "source": [
    "def build_model(states, actions):\n",
    "    model = Sequential()\n",
    "    model.add(Dense(24, activation='relu', input_shape = states))\n",
    "    model.add(Dense(24, activation='relu'))\n",
    "    model.add(Dense(actions, activation='linear'))\n",
    "    return model"
   ]
  },
  {
   "cell_type": "code",
   "execution_count": 20,
   "metadata": {},
   "outputs": [],
   "source": [
    "del model"
   ]
  },
  {
   "cell_type": "code",
   "execution_count": 21,
   "metadata": {},
   "outputs": [],
   "source": [
    "model = build_model(states, actions)"
   ]
  },
  {
   "cell_type": "code",
   "execution_count": 22,
   "metadata": {},
   "outputs": [
    {
     "name": "stdout",
     "output_type": "stream",
     "text": [
      "Model: \"sequential_2\"\n",
      "_________________________________________________________________\n",
      " Layer (type)                Output Shape              Param #   \n",
      "=================================================================\n",
      " dense_6 (Dense)             (None, 24)                48        \n",
      "                                                                 \n",
      " dense_7 (Dense)             (None, 24)                600       \n",
      "                                                                 \n",
      " dense_8 (Dense)             (None, 3)                 75        \n",
      "                                                                 \n",
      "=================================================================\n",
      "Total params: 723\n",
      "Trainable params: 723\n",
      "Non-trainable params: 0\n",
      "_________________________________________________________________\n"
     ]
    }
   ],
   "source": [
    "model.summary()"
   ]
  },
  {
   "cell_type": "markdown",
   "metadata": {},
   "source": [
    "# 3. Build Agent with Keras-RL"
   ]
  },
  {
   "cell_type": "code",
   "execution_count": 17,
   "metadata": {},
   "outputs": [],
   "source": [
    "from rl.agents import DQNAgent\n",
    "from rl.policy import BoltzmannQPolicy\n",
    "from rl.memory import SequentialMemory"
   ]
  },
  {
   "cell_type": "code",
   "execution_count": 18,
   "metadata": {},
   "outputs": [],
   "source": [
    "def build_agent(model, actions):\n",
    "    policy = BoltzmannQPolicy()\n",
    "    memory = SequentialMemory(limit=50000, window_length=1)\n",
    "    dqn = DQNAgent(model=model, memory=memory, policy=policy, \n",
    "                  nb_actions=actions, nb_steps_warmup=10, target_model_update=1e-2)\n",
    "    return dqn"
   ]
  },
  {
   "cell_type": "code",
   "execution_count": 23,
   "metadata": {},
   "outputs": [
    {
     "name": "stdout",
     "output_type": "stream",
     "text": [
      "Training for 50000 steps ...\n",
      "Interval 1 (0 steps performed)\n",
      "\r",
      "    1/10000 [..............................] - ETA: 14:22 - reward: -1.0000"
     ]
    },
    {
     "name": "stderr",
     "output_type": "stream",
     "text": [
      "C:\\Users\\KAMALESH DRAN\\anaconda3\\lib\\site-packages\\keras\\engine\\training_v1.py:2356: UserWarning: `Model.state_updates` will be removed in a future version. This property should not be used in TensorFlow 2.0, as `updates` are applied automatically.\n",
      "  updates=self.state_updates,\n",
      "C:\\Users\\KAMALESH DRAN\\anaconda3\\lib\\site-packages\\rl\\memory.py:37: UserWarning: Not enough entries to sample without replacement. Consider increasing your warm-up phase to avoid oversampling!\n",
      "  warnings.warn('Not enough entries to sample without replacement. Consider increasing your warm-up phase to avoid oversampling!')\n"
     ]
    },
    {
     "name": "stdout",
     "output_type": "stream",
     "text": [
      "10000/10000 [==============================] - 66s 7ms/step - reward: -0.8266\n",
      "166 episodes - episode_reward: -49.602 [-60.000, 2.000] - loss: 1.844 - mae: 9.298 - mean_q: -12.791\n",
      "\n",
      "Interval 2 (10000 steps performed)\n",
      "10000/10000 [==============================] - 67s 7ms/step - reward: -0.7718\n",
      "167 episodes - episode_reward: -46.287 [-60.000, -4.000] - loss: 2.156 - mae: 11.627 - mean_q: -16.461\n",
      "\n",
      "Interval 3 (20000 steps performed)\n",
      "10000/10000 [==============================] - 69s 7ms/step - reward: -0.6004\n",
      "167 episodes - episode_reward: -36.072 [-60.000, 10.000] - loss: 1.909 - mae: 10.588 - mean_q: -14.889\n",
      "\n",
      "Interval 4 (30000 steps performed)\n",
      "10000/10000 [==============================] - 68s 7ms/step - reward: -0.2132\n",
      "166 episodes - episode_reward: -12.795 [-60.000, 28.000] - loss: 1.005 - mae: 6.272 - mean_q: -8.281\n",
      "\n",
      "Interval 5 (40000 steps performed)\n",
      "10000/10000 [==============================] - 73s 7ms/step - reward: 0.0144\n",
      "done, took 342.745 seconds\n"
     ]
    },
    {
     "data": {
      "text/plain": [
       "<keras.callbacks.History at 0x29602952430>"
      ]
     },
     "execution_count": 23,
     "metadata": {},
     "output_type": "execute_result"
    }
   ],
   "source": [
    "dqn = build_agent(model, actions)\n",
    "dqn.compile(Adam(lr=1e-3), metrics=['mae'])\n",
    "dqn.fit(env, nb_steps=50000, visualize=False, verbose=1)"
   ]
  },
  {
   "cell_type": "code",
   "execution_count": 24,
   "metadata": {},
   "outputs": [
    {
     "name": "stdout",
     "output_type": "stream",
     "text": [
      "Testing for 100 episodes ...\n",
      "Episode 1: reward: 52.000, steps: 60\n",
      "Episode 2: reward: 38.000, steps: 60\n",
      "Episode 3: reward: 32.000, steps: 60\n",
      "Episode 4: reward: 52.000, steps: 60\n",
      "Episode 5: reward: 44.000, steps: 60\n",
      "Episode 6: reward: 44.000, steps: 60\n",
      "Episode 7: reward: 46.000, steps: 60\n",
      "Episode 8: reward: 46.000, steps: 60\n",
      "Episode 9: reward: 30.000, steps: 60\n",
      "Episode 10: reward: 46.000, steps: 60\n",
      "Episode 11: reward: 42.000, steps: 60\n",
      "Episode 12: reward: 46.000, steps: 60\n",
      "Episode 13: reward: 44.000, steps: 60\n",
      "Episode 14: reward: 34.000, steps: 60\n",
      "Episode 15: reward: 48.000, steps: 60\n",
      "Episode 16: reward: 50.000, steps: 60\n",
      "Episode 17: reward: 52.000, steps: 60\n",
      "Episode 18: reward: 42.000, steps: 60\n",
      "Episode 19: reward: 46.000, steps: 60\n",
      "Episode 20: reward: 44.000, steps: 60\n",
      "Episode 21: reward: 46.000, steps: 60\n",
      "Episode 22: reward: 42.000, steps: 60\n",
      "Episode 23: reward: 40.000, steps: 60\n",
      "Episode 24: reward: 48.000, steps: 60\n",
      "Episode 25: reward: 36.000, steps: 60\n",
      "Episode 26: reward: 52.000, steps: 60\n",
      "Episode 27: reward: 46.000, steps: 60\n",
      "Episode 28: reward: 42.000, steps: 60\n",
      "Episode 29: reward: 50.000, steps: 60\n",
      "Episode 30: reward: 40.000, steps: 60\n",
      "Episode 31: reward: 40.000, steps: 60\n",
      "Episode 32: reward: 40.000, steps: 60\n",
      "Episode 33: reward: 46.000, steps: 60\n",
      "Episode 34: reward: 48.000, steps: 60\n",
      "Episode 35: reward: 46.000, steps: 60\n",
      "Episode 36: reward: 52.000, steps: 60\n",
      "Episode 37: reward: 42.000, steps: 60\n",
      "Episode 38: reward: 48.000, steps: 60\n",
      "Episode 39: reward: 26.000, steps: 60\n",
      "Episode 40: reward: 30.000, steps: 60\n",
      "Episode 41: reward: 46.000, steps: 60\n",
      "Episode 42: reward: 50.000, steps: 60\n",
      "Episode 43: reward: 46.000, steps: 60\n",
      "Episode 44: reward: 38.000, steps: 60\n",
      "Episode 45: reward: 36.000, steps: 60\n",
      "Episode 46: reward: 42.000, steps: 60\n",
      "Episode 47: reward: 36.000, steps: 60\n",
      "Episode 48: reward: 50.000, steps: 60\n",
      "Episode 49: reward: 48.000, steps: 60\n",
      "Episode 50: reward: 46.000, steps: 60\n",
      "Episode 51: reward: 32.000, steps: 60\n",
      "Episode 52: reward: 30.000, steps: 60\n",
      "Episode 53: reward: 48.000, steps: 60\n",
      "Episode 54: reward: 52.000, steps: 60\n",
      "Episode 55: reward: 44.000, steps: 60\n",
      "Episode 56: reward: 42.000, steps: 60\n",
      "Episode 57: reward: 34.000, steps: 60\n",
      "Episode 58: reward: 54.000, steps: 60\n",
      "Episode 59: reward: 48.000, steps: 60\n",
      "Episode 60: reward: 50.000, steps: 60\n",
      "Episode 61: reward: 36.000, steps: 60\n",
      "Episode 62: reward: 34.000, steps: 60\n",
      "Episode 63: reward: 44.000, steps: 60\n",
      "Episode 64: reward: 30.000, steps: 60\n",
      "Episode 65: reward: 42.000, steps: 60\n",
      "Episode 66: reward: 46.000, steps: 60\n",
      "Episode 67: reward: 40.000, steps: 60\n",
      "Episode 68: reward: 44.000, steps: 60\n",
      "Episode 69: reward: 50.000, steps: 60\n",
      "Episode 70: reward: 40.000, steps: 60\n",
      "Episode 71: reward: 32.000, steps: 60\n",
      "Episode 72: reward: 40.000, steps: 60\n",
      "Episode 73: reward: 48.000, steps: 60\n",
      "Episode 74: reward: 46.000, steps: 60\n",
      "Episode 75: reward: 42.000, steps: 60\n",
      "Episode 76: reward: 46.000, steps: 60\n",
      "Episode 77: reward: 50.000, steps: 60\n",
      "Episode 78: reward: 40.000, steps: 60\n",
      "Episode 79: reward: 50.000, steps: 60\n",
      "Episode 80: reward: 42.000, steps: 60\n",
      "Episode 81: reward: 48.000, steps: 60\n",
      "Episode 82: reward: 42.000, steps: 60\n",
      "Episode 83: reward: 34.000, steps: 60\n",
      "Episode 84: reward: 50.000, steps: 60\n",
      "Episode 85: reward: 50.000, steps: 60\n",
      "Episode 86: reward: 26.000, steps: 60\n",
      "Episode 87: reward: 54.000, steps: 60\n",
      "Episode 88: reward: 38.000, steps: 60\n",
      "Episode 89: reward: 50.000, steps: 60\n",
      "Episode 90: reward: 42.000, steps: 60\n",
      "Episode 91: reward: 38.000, steps: 60\n",
      "Episode 92: reward: 42.000, steps: 60\n",
      "Episode 93: reward: 50.000, steps: 60\n",
      "Episode 94: reward: 52.000, steps: 60\n",
      "Episode 95: reward: 46.000, steps: 60\n",
      "Episode 96: reward: 48.000, steps: 60\n",
      "Episode 97: reward: 38.000, steps: 60\n",
      "Episode 98: reward: 42.000, steps: 60\n",
      "Episode 99: reward: 42.000, steps: 60\n",
      "Episode 100: reward: 36.000, steps: 60\n",
      "43.2\n"
     ]
    }
   ],
   "source": [
    "scores = dqn.test(env, nb_episodes=100, visualize=False)\n",
    "print(np.mean(scores.history['episode_reward']))"
   ]
  }
 ],
 "metadata": {
  "kernelspec": {
   "display_name": "Python 3 (ipykernel)",
   "language": "python",
   "name": "python3"
  },
  "language_info": {
   "codemirror_mode": {
    "name": "ipython",
    "version": 3
   },
   "file_extension": ".py",
   "mimetype": "text/x-python",
   "name": "python",
   "nbconvert_exporter": "python",
   "pygments_lexer": "ipython3",
   "version": "3.9.12"
  }
 },
 "nbformat": 4,
 "nbformat_minor": 2
}
